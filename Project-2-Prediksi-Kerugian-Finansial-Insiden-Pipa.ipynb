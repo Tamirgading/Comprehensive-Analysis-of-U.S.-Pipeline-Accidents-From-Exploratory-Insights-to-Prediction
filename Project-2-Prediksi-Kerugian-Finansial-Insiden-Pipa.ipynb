{
 "cells": [
  {
   "cell_type": "markdown",
   "id": "c4826036",
   "metadata": {},
   "source": [
    "## Project 2: Pemodelan Prediktif untuk Mengestimasi Total Kerugian Finansial (All Costs) dari Sebuah Insiden\n",
    "Tujuan utama dari proyek ini adalah membangun sebuah model machine learning yang mampu memprediksi atau mengestimasi total kerugian finansial (All Costs) yang diakibatkan oleh sebuah insiden kecelakaan pipa. Dengan model ini, kita berharap dapat lebih memahami faktor-faktor apa saja yang paling signifikan mempengaruhi besarnya biaya dan, idealnya, dapat memberikan perkiraan biaya untuk insiden baru berdasarkan karakteristiknya."
   ]
  },
  {
   "cell_type": "markdown",
   "id": "6b7e5312",
   "metadata": {},
   "source": [
    "Secara garis besar, kita akan melalui tahapan berikut:\n",
    "1. Persiapan Data Lanjutan untuk Pemodelan: Ini mencakup pemilihan fitur yang relevan, penanganan nilai hilang yang mungkin masih ada atau perlu perlakuan khusus untuk pemodelan, pengkodean (encoding) variabel kategorikal, pembagian data menjadi set pelatihan dan pengujian, serta penskalaan fitur.\n",
    "2. Pemilihan dan Pelatihan Model Regresi: Kita akan mengeksplorasi beberapa algoritma regresi dan melatihnya menggunakan data yang telah kita siapkan.\n",
    "3. Evaluasi Model: Mengukur seberapa baik model kita dalam memprediksi total biaya menggunakan metrik evaluasi yang sesuai.\n",
    "4. Interpretasi Hasil dan Kesimpulan: Menganalisis hasil model, memahami fitur mana yang paling berpengaruh, dan menarik kesimpulan."
   ]
  },
  {
   "cell_type": "markdown",
   "id": "36ce959c",
   "metadata": {},
   "source": [
    "### Tahap 1: Persiapan Data Lanjutan untuk Pemodelan\n",
    "#### 1.1: Memuat Data, Seleksi Fitur, dan Persiapan Awal Target Variabel\n",
    "\n",
    " langkah pertama adalah memuat dataset yang telah kita bersihkan dan rekayasa fiturnya pada Proyek 1. File pipeline_accidents_processed_eda.csv akan menjadi fondasi kita.\n",
    "\n",
    "Setelah data dimuat, kita perlu menentukan fitur-fitur (kolom) mana yang akan kita gunakan sebagai input (prediktor) untuk model kita, dan mana yang akan menjadi target prediksi. Dalam kasus ini, target kita adalah kolom All Costs.\n",
    "\n",
    "Berdasarkan pemahaman domain dan temuan dari EDA, kita akan memilih serangkaian fitur awal yang kita anggap berpotensi mempengaruhi total biaya. Fitur-fitur ini mencakup karakteristik insiden, jenis pipa, jenis cairan, penyebab, dampak fisik, serta informasi waktu. Kita juga akan menyertakan Operator Name dan Accident City seperti diskusi kita sebelumnya, meskipun kita sadar bahwa fitur kategorikal dengan banyak nilai unik ini akan memerlukan penanganan khusus pada tahap encoding nanti.\n",
    "\n",
    "Variabel target All Costs seringkali memiliki distribusi yang sangat miring (skewed), di mana sebagian besar nilainya kecil dan ada beberapa nilai yang sangat besar. Distribusi seperti ini dapat menyulitkan beberapa algoritma machine learning. Oleh karena itu, kita akan memeriksa distribusinya dan menerapkan transformasi logaritmik (log1p untuk mengakomodasi nilai nol) untuk membuatnya lebih mendekati distribusi normal, yang diharapkan dapat membantu performa model."
   ]
  },
  {
   "cell_type": "code",
   "execution_count": 1,
   "id": "75ac5eb4",
   "metadata": {},
   "outputs": [
    {
     "name": "stdout",
     "output_type": "stream",
     "text": [
      "DataFrame berhasil dimuat dari 'pipeline_accidents_processed_eda.csv'.\n",
      "Dimensi data: 2795 baris dan 62 kolom.\n"
     ]
    }
   ],
   "source": [
    "import pandas as pd\n",
    "import numpy as np\n",
    "import matplotlib.pyplot as plt\n",
    "import seaborn as sns\n",
    "from IPython.display import display\n",
    "\n",
    "pd.set_option('display.max_columns', None)\n",
    "plt.style.use('ggplot')\n",
    "                \n",
    "nama_file_input = 'pipeline_accidents_processed_eda.csv'\n",
    "df_model = pd.read_csv(nama_file_input)\n",
    "print(f\"DataFrame berhasil dimuat dari '{nama_file_input}'.\")\n",
    "print(f\"Dimensi data: {df_model.shape[0]} baris dan {df_model.shape[1]} kolom.\")"
   ]
  },
  {
   "cell_type": "code",
   "execution_count": 2,
   "id": "64d53d88",
   "metadata": {},
   "outputs": [
    {
     "name": "stdout",
     "output_type": "stream",
     "text": [
      "\n",
      "Contoh 5 baris pertama data yang dimuat:\n",
      "   Report Number  Supplemental Number  Accident Year   Accident Date/Time  Operator ID                Operator Name Pipeline/Facility Name Pipeline Location Pipeline Type Liquid Type Liquid Subtype Liquid Name   Accident City               Accident County Accident State  Accident Latitude  Accident Longitude               Cause Category                      Cause Subcategory  Unintentional Release (Barrels)  Intentional Release (Barrels)  Liquid Recovery (Barrels)  Net Loss (Barrels) Liquid Ignition Liquid Explosion Pipeline Shutdown   Shutdown Date/Time    Restart Date/Time  Public Evacuations  Operator Employee Injuries  Operator Contractor Injuries  Emergency Responder Injuries  Other Injuries  Public Injuries  All Injuries  Operator Employee Fatalities  Operator Contractor Fatalities  Emergency Responder Fatalities  Other Fatalities  Public Fatalities  All Fatalities  Property Damage Costs  Lost Commodity Costs  Public/Private Property Damage Costs  Emergency Response Costs  Environmental Remediation Costs  Other Costs  All Costs  Accident_Year  Accident_Month Accident_Month_Name  Accident_DayOfWeek_Num Accident_DayOfWeek_Name  Accident_Hour  Shutdown_Duration_Hours  Recovery_Rate  Cost_per_Barrel_Lost Net_Loss_Category  Is_HVL  Previous_Incidents_Operator  Avg_NetLoss_Operator  Avg_AllCosts_Operator\n",
      "0       20100124                17780           2010  2010-05-25 11:00:00        26149  ALYESKA PIPELINE SERVICE CO        PUMP STATION 09           ONSHORE          TANK   CRUDE OIL        UNKNOWN     UNKNOWN  DELTA JUNCTION                       UNKNOWN             AK           63.93074          -145.76661          INCORRECT OPERATION  OVERFILL/OVERFLOW OF TANK/VESSEL/SUMP                          2580.00                            0.0                    1461.00              1119.0              NO               NO               YES  2010-05-25 11:00:00  2010-05-28 16:40:00                 0.0                         0.0                           0.0                           0.0             0.0              0.0           0.0                           0.0                             0.0                             0.0               0.0                0.0             0.0             27000000.0              238000.0                                   0.0                 1700000.0                              0.0          0.0   28938000           2010               5                 May                       1                 Tuesday             11                77.666667       0.566279          25860.589812        Very Large       0                            0               139.875            6104564.875\n",
      "1       20100259                19203           2010  2010-09-07 14:30:00        26149  ALYESKA PIPELINE SERVICE CO                RGV-35A           ONSHORE   ABOVEGROUND   CRUDE OIL        UNKNOWN     UNKNOWN        COLDFOOT                       UNKNOWN             AK           67.79870          -149.81640  MATERIAL/WELD/EQUIP FAILURE         PUMP OR PUMP-RELATED EQUIPMENT                             0.12                            0.0                       0.12                 0.0              NO               NO           UNKNOWN                  NaN                  NaN                 0.0                         0.0                           0.0                           0.0             0.0              0.0           0.0                           0.0                             0.0                             0.0               0.0                0.0             0.0                  700.0                   8.0                                   0.0                    3420.0                              0.0          0.0       4128           2010               9           September                       1                 Tuesday             14                -1.000000       1.000000              0.000000           No Loss       0                            1               139.875            6104564.875\n",
      "2       20110038                17781           2011  2011-01-08 08:16:00        26149  ALYESKA PIPELINE SERVICE CO         PUMP STATION 1           ONSHORE   UNDERGROUND   CRUDE OIL        UNKNOWN     UNKNOWN       DEADHORSE                       UNKNOWN             AK           70.25666          -148.62030                    CORROSION                               INTERNAL                           308.00                            0.0                     308.00                 0.0              NO               NO               YES  2011-01-08 08:50:00  2011-01-17 10:18:00                 0.0                         0.0                           0.0                           0.0             0.0              0.0           0.0                           0.0                             0.0                             0.0               0.0                0.0             0.0             14130000.0                   0.0                                   0.0                 1570000.0                              0.0          0.0   15700000           2011               1             January                       5                Saturday              8               217.466667       1.000000              0.000000           No Loss       0                            2               139.875            6104564.875\n",
      "3       20120038                17782           2012  2012-01-14 22:10:00        26149  ALYESKA PIPELINE SERVICE CO         PUMP STATION 7           ONSHORE   ABOVEGROUND   CRUDE OIL        UNKNOWN     UNKNOWN       FAIRBANKS  FAIRBANKS NORTH STAR BOROUGH             AK           65.31111          -148.27900  MATERIAL/WELD/EQUIP FAILURE   THREADED CONNECTION/COUPLING FAILURE                             3.26                            0.0                       3.26                 0.0              NO               NO           UNKNOWN                  NaN                  NaN                 0.0                         0.0                           0.0                           0.0             0.0              0.0           0.0                           0.0                             0.0                             0.0               0.0                0.0             0.0                 6415.0                   0.0                                   0.0                   24825.0                           6000.0          0.0      37240           2012               1             January                       5                Saturday             22                -1.000000       1.000000              0.000000           No Loss       0                            3               139.875            6104564.875\n",
      "4       20130253                19591           2013  2013-06-12 16:00:00        26149  ALYESKA PIPELINE SERVICE CO                RGV-35A           ONSHORE   ABOVEGROUND   CRUDE OIL        UNKNOWN     UNKNOWN        COLDFOOT                       UNKNOWN             AK           67.79870          -149.81640         NATURAL FORCE DAMAGE                            TEMPERATURE                             0.52                            0.0                       0.52                 0.0              NO               NO                NO                  NaN                  NaN                 0.0                         0.0                           0.0                           0.0             0.0              0.0           0.0                           0.0                             0.0                             0.0               0.0                0.0             0.0                 5000.0                   0.0                                   0.0                       0.0                          50000.0          0.0      55000           2013               6                June                       2               Wednesday             16                -1.000000       1.000000              0.000000           No Loss       0                            4               139.875            6104564.875\n"
     ]
    }
   ],
   "source": [
    "print(\"\\nContoh 5 baris pertama data yang dimuat:\")\n",
    "print(df_model.head().to_string())"
   ]
  },
  {
   "cell_type": "code",
   "execution_count": 3,
   "id": "ff5a47aa",
   "metadata": {},
   "outputs": [
    {
     "name": "stdout",
     "output_type": "stream",
     "text": [
      "\n",
      "Jumlah fitur prediktor yang akan digunakan: 17\n",
      "Nama fitur prediktor: ['Operator Name', 'Accident City', 'Pipeline Location', 'Pipeline Type', 'Liquid Type', 'Cause Category', 'Is_HVL', 'Unintentional Release (Barrels)', 'Net Loss (Barrels)', 'Public Evacuations', 'All Injuries', 'All Fatalities', 'Recovery_Rate', 'Accident_Year', 'Accident_Month', 'Accident_Hour', 'Shutdown_Duration_Hours']\n"
     ]
    }
   ],
   "source": [
    "predictor_cols = [\n",
    "    'Operator Name', 'Accident City', 'Pipeline Location', 'Pipeline Type', \n",
    "    'Liquid Type', 'Cause Category', 'Is_HVL', 'Unintentional Release (Barrels)', \n",
    "    'Net Loss (Barrels)', 'Public Evacuations', 'All Injuries', 'All Fatalities', \n",
    "    'Recovery_Rate', 'Accident_Year', 'Accident_Month', 'Accident_Hour', \n",
    "    'Shutdown_Duration_Hours', 'Cost_per_Barrel_Lost'\n",
    "]\n",
    "    \n",
    "features_to_exclude_due_to_leakage = ['Cost_per_Barrel_Lost', 'Avg_AllCosts_Operator']\n",
    "predictor_cols = [col for col in predictor_cols if col not in features_to_exclude_due_to_leakage]\n",
    "\n",
    "existing_predictor_cols = [col for col in predictor_cols if col in df_model.columns]\n",
    "missing_from_selection = set(predictor_cols) - set(existing_predictor_cols)\n",
    "if missing_from_selection:\n",
    "    print(f\"\\nPeringatan: Kolom berikut dari daftar pilihan awal tidak ditemukan di DataFrame dan akan diabaikan: {missing_from_selection}\")\n",
    "\n",
    "if not existing_predictor_cols or 'All Costs' not in df_model.columns:\n",
    "    print(\"\\nTidak dapat melanjutkan: Kolom prediktor penting atau target 'All Costs' tidak ditemukan dalam DataFrame.\")\n",
    "else:\n",
    "    X = df_model[existing_predictor_cols].copy()\n",
    "    y = df_model['All Costs'].copy()\n",
    "\n",
    "    print(f\"\\nJumlah fitur prediktor yang akan digunakan: {len(X.columns)}\")\n",
    "    print(f\"Nama fitur prediktor: {X.columns.tolist()}\")"
   ]
  },
  {
   "cell_type": "code",
   "execution_count": 4,
   "id": "57200536",
   "metadata": {},
   "outputs": [
    {
     "data": {
      "image/png": "[encoded data removed]",
      "text/plain": [
       "<Figure size 1400x600 with 2 Axes>"
      ]
     },
     "metadata": {},
     "output_type": "display_data"
    },
    {
     "name": "stdout",
     "output_type": "stream",
     "text": [
      "\n",
      "Statistik Deskriptif 'All Costs' (Asli):\n",
      "count          2,795.00\n",
      "mean         834,033.25\n",
      "std       16,578,298.48\n",
      "min                0.00\n",
      "25%            5,039.50\n",
      "50%           23,129.00\n",
      "75%          117,232.50\n",
      "max      840,526,118.00\n",
      "Name: All Costs, dtype: object\n",
      "\n",
      "Statistik Deskriptif 'All Costs' (Setelah Transformasi Log1p):\n",
      "count    2,795.00\n",
      "mean        10.01\n",
      "std          2.63\n",
      "min          0.00\n",
      "25%          8.53\n",
      "50%         10.05\n",
      "75%         11.67\n",
      "max         20.55\n",
      "Name: All Costs, dtype: object\n"
     ]
    }
   ],
   "source": [
    "plt.figure(figsize=(14, 6))\n",
    "plt.subplot(1, 2, 1)\n",
    "sns.histplot(y, kde=True, bins=50, color='skyblue')\n",
    "plt.title('Distribusi All Costs (Asli)', fontsize=14)\n",
    "plt.xlabel('All Costs (USD)', fontsize=12)\n",
    "plt.ylabel('Frekuensi', fontsize=12)\n",
    "        \n",
    "y_transformed = np.log1p(y)\n",
    "        \n",
    "plt.subplot(1, 2, 2)\n",
    "sns.histplot(y_transformed, kde=True, bins=50, color='salmon')\n",
    "plt.title('Distribusi All Costs (Setelah Transformasi Log1p)', fontsize=14)\n",
    "plt.xlabel('Log(1 + All Costs)', fontsize=12)\n",
    "plt.ylabel('Frekuensi', fontsize=12)\n",
    "plt.tight_layout()\n",
    "plt.show()\n",
    "\n",
    "print(\"\\nStatistik Deskriptif 'All Costs' (Asli):\")\n",
    "print(y.describe().apply(lambda x: f\"{x:,.2f}\"))\n",
    "print(\"\\nStatistik Deskriptif 'All Costs' (Setelah Transformasi Log1p):\")\n",
    "print(y_transformed.describe().apply(lambda x: f\"{x:,.2f}\"))\n",
    "        \n",
    "y_model = y_transformed"
   ]
  },
  {
   "cell_type": "code",
   "execution_count": 5,
   "id": "80570418",
   "metadata": {},
   "outputs": [
    {
     "name": "stdout",
     "output_type": "stream",
     "text": [
      "\n",
      "Contoh 5 baris pertama dari Fitur (X) yang dipilih:\n",
      "                 Operator Name   Accident City Pipeline Location Pipeline Type Liquid Type               Cause Category  Is_HVL  Unintentional Release (Barrels)  Net Loss (Barrels)  Public Evacuations  All Injuries  All Fatalities  Recovery_Rate  Accident_Year  Accident_Month  Accident_Hour  Shutdown_Duration_Hours\n",
      "0  ALYESKA PIPELINE SERVICE CO  DELTA JUNCTION           ONSHORE          TANK   CRUDE OIL          INCORRECT OPERATION       0                          2580.00              1119.0                 0.0           0.0             0.0       0.566279           2010               5             11                77.666667\n",
      "1  ALYESKA PIPELINE SERVICE CO        COLDFOOT           ONSHORE   ABOVEGROUND   CRUDE OIL  MATERIAL/WELD/EQUIP FAILURE       0                             0.12                 0.0                 0.0           0.0             0.0       1.000000           2010               9             14                -1.000000\n",
      "2  ALYESKA PIPELINE SERVICE CO       DEADHORSE           ONSHORE   UNDERGROUND   CRUDE OIL                    CORROSION       0                           308.00                 0.0                 0.0           0.0             0.0       1.000000           2011               1              8               217.466667\n",
      "3  ALYESKA PIPELINE SERVICE CO       FAIRBANKS           ONSHORE   ABOVEGROUND   CRUDE OIL  MATERIAL/WELD/EQUIP FAILURE       0                             3.26                 0.0                 0.0           0.0             0.0       1.000000           2012               1             22                -1.000000\n",
      "4  ALYESKA PIPELINE SERVICE CO        COLDFOOT           ONSHORE   ABOVEGROUND   CRUDE OIL         NATURAL FORCE DAMAGE       0                             0.52                 0.0                 0.0           0.0             0.0       1.000000           2013               6             16                -1.000000\n",
      "\n",
      "Contoh 5 baris pertama dari Target (y_model) yang ditransformasi:\n",
      "0    17.180666\n",
      "1     8.325791\n",
      "2    16.569171\n",
      "3    10.525166\n",
      "4    10.915107\n"
     ]
    }
   ],
   "source": [
    "print(\"\\nContoh 5 baris pertama dari Fitur (X) yang dipilih:\")\n",
    "print(X.head().to_string())\n",
    "print(\"\\nContoh 5 baris pertama dari Target (y_model) yang ditransformasi:\")\n",
    "print(y_model.head().to_string())"
   ]
  },
  {
   "cell_type": "markdown",
   "id": "ce59cb5f",
   "metadata": {},
   "source": [
    "##### 1.2: Encoding Variabel Kategorikal\n",
    "Model machine learning memerlukan input numerik. Oleh karena itu, fitur-fitur kategorikal dalam dataset kita (seperti Operator Name, Accident City, Pipeline Location, Pipeline Type, Liquid Type, Cause Category) perlu diubah menjadi representasi numerik. \n",
    "\n",
    "kita akan menggunakan:\n",
    "- Frequency Encoding untuk fitur dengan kardinalitas sangat tinggi seperti Operator Name dan Accident City.\n",
    "- One-Hot Encoding untuk fitur kategorikal lainnya dengan kardinalitas lebih terkendali."
   ]
  },
  {
   "cell_type": "code",
   "execution_count": 6,
   "id": "877ad3db",
   "metadata": {},
   "outputs": [
    {
     "name": "stdout",
     "output_type": "stream",
     "text": [
      "Kolom untuk Frequency Encoding: ['Operator Name', 'Accident City']\n",
      "Kolom untuk One-Hot Encoding: ['Pipeline Location', 'Pipeline Type', 'Liquid Type', 'Cause Category']\n",
      "Kolom 'Operator Name' di-encode menggunakan Frequency Encoding menjadi 'Operator Name_freq_encoded'.\n",
      "Kolom 'Accident City' di-encode menggunakan Frequency Encoding menjadi 'Accident City_freq_encoded'.\n",
      "Kolom ['Pipeline Location', 'Pipeline Type', 'Liquid Type', 'Cause Category'] di-encode menggunakan One-Hot Encoding.\n",
      "\n",
      "Dimensi X setelah encoding: (2795, 28)\n",
      "Contoh 5 baris pertama X setelah encoding:\n",
      "   Is_HVL  Unintentional Release (Barrels)  Net Loss (Barrels)  Public Evacuations  All Injuries  All Fatalities  Recovery_Rate  Accident_Year  Accident_Month  Accident_Hour  Shutdown_Duration_Hours  Operator Name_freq_encoded  Accident City_freq_encoded  Pipeline Location_ONSHORE  Pipeline Type_TANK  Pipeline Type_TRANSITION AREA  Pipeline Type_UNDERGROUND  Pipeline Type_UNKNOWN  Liquid Type_CO2 (CARBON DIOXIDE)  Liquid Type_CRUDE OIL  Liquid Type_HVL OR OTHER FLAMMABLE OR TOXIC FLUID, GAS  Liquid Type_REFINED AND/OR PETROLEUM PRODUCT (NON-HVL), LIQUID  Cause Category_CORROSION  Cause Category_EXCAVATION DAMAGE  Cause Category_INCORRECT OPERATION  Cause Category_MATERIAL/WELD/EQUIP FAILURE  Cause Category_NATURAL FORCE DAMAGE  Cause Category_OTHER OUTSIDE FORCE DAMAGE\n",
      "0       0                          2580.00              1119.0                 0.0           0.0             0.0       0.566279           2010               5             11                77.666667                    0.002862                    0.000358                       True                True                          False                      False                  False                             False                   True                                                   False                                                           False                     False                             False                                True                                       False                                False                                      False\n",
      "1       0                             0.12                 0.0                 0.0           0.0             0.0       1.000000           2010               9             14                -1.000000                    0.002862                    0.000716                       True               False                          False                      False                  False                             False                   True                                                   False                                                           False                     False                             False                               False                                        True                                False                                      False\n",
      "2       0                           308.00                 0.0                 0.0           0.0             0.0       1.000000           2011               1              8               217.466667                    0.002862                    0.000716                       True               False                          False                       True                  False                             False                   True                                                   False                                                           False                      True                             False                               False                                       False                                False                                      False\n",
      "3       0                             3.26                 0.0                 0.0           0.0             0.0       1.000000           2012               1             22                -1.000000                    0.002862                    0.000358                       True               False                          False                      False                  False                             False                   True                                                   False                                                           False                     False                             False                               False                                        True                                False                                      False\n",
      "4       0                             0.52                 0.0                 0.0           0.0             0.0       1.000000           2013               6             16                -1.000000                    0.002862                    0.000716                       True               False                          False                      False                  False                             False                   True                                                   False                                                           False                     False                             False                               False                                       False                                 True                                      False\n"
     ]
    }
   ],
   "source": [
    "if 'X' in locals() and not X.empty:\n",
    "    X_encoded = X.copy() \n",
    "    \n",
    "    categorical_cols = X_encoded.select_dtypes(include=['object', 'category']).columns.tolist()\n",
    "    \n",
    "    high_cardinality_threshold = 50 \n",
    "    high_cardinality_cols = []\n",
    "    low_cardinality_categorical_cols = []\n",
    "\n",
    "    for col in categorical_cols:\n",
    "        if X_encoded[col].nunique() > high_cardinality_threshold:\n",
    "            if col in ['Operator Name', 'Accident City']:\n",
    "                 high_cardinality_cols.append(col)\n",
    "            else:\n",
    "                 low_cardinality_categorical_cols.append(col)\n",
    "        else:\n",
    "            low_cardinality_categorical_cols.append(col)\n",
    "            \n",
    "    print(f\"Kolom untuk Frequency Encoding: {high_cardinality_cols}\")\n",
    "    print(f\"Kolom untuk One-Hot Encoding: {low_cardinality_categorical_cols}\")\n",
    "\n",
    "    # 1. Frequency Encoding\n",
    "    for col in high_cardinality_cols:\n",
    "        if col in X_encoded.columns:\n",
    "            frequency_map = X_encoded[col].value_counts(normalize=True)\n",
    "            X_encoded[col + '_freq_encoded'] = X_encoded[col].map(frequency_map)\n",
    "            X_encoded.drop(col, axis=1, inplace=True)\n",
    "            print(f\"Kolom '{col}' di-encode menggunakan Frequency Encoding menjadi '{col}_freq_encoded'.\")\n",
    "\n",
    "    # 2. One-Hot Encoding\n",
    "    if low_cardinality_categorical_cols:\n",
    "        X_encoded = pd.get_dummies(X_encoded, columns=low_cardinality_categorical_cols, drop_first=True)\n",
    "        print(f\"Kolom {low_cardinality_categorical_cols} di-encode menggunakan One-Hot Encoding.\")\n",
    "    \n",
    "    print(\"\\nDimensi X setelah encoding:\", X_encoded.shape)\n",
    "    print(\"Contoh 5 baris pertama X setelah encoding:\")\n",
    "    print(X_encoded.head().to_string())\n",
    "    \n",
    "    final_feature_columns = X_encoded.columns.tolist()\n",
    "else:\n",
    "    print(\"DataFrame X belum terdefinisi atau kosong. Jalankan langkah sebelumnya.\")"
   ]
  },
  {
   "cell_type": "markdown",
   "id": "06dfb398",
   "metadata": {},
   "source": [
    "##### 1.3: Pembagian Data (Train-Test Split)\n",
    "Kita akan membagi data 80% untuk training dan 20% untuk testing"
   ]
  },
  {
   "cell_type": "code",
   "execution_count": 7,
   "id": "cfa42355",
   "metadata": {},
   "outputs": [
    {
     "name": "stdout",
     "output_type": "stream",
     "text": [
      "\n",
      "Melakukan pembagian data menjadi set pelatihan dan pengujian...\n",
      "Ukuran X_train: (2236, 28)\n",
      "Ukuran X_test: (559, 28)\n",
      "Ukuran y_train: (2236,)\n",
      "Ukuran y_test: (559,)\n",
      "\n",
      "Contoh 5 baris pertama dari X_train:\n",
      "      Is_HVL  Unintentional Release (Barrels)  Net Loss (Barrels)  Public Evacuations  All Injuries  All Fatalities  Recovery_Rate  Accident_Year  Accident_Month  Accident_Hour  Shutdown_Duration_Hours  Operator Name_freq_encoded  Accident City_freq_encoded  Pipeline Location_ONSHORE  Pipeline Type_TANK  Pipeline Type_TRANSITION AREA  Pipeline Type_UNDERGROUND  Pipeline Type_UNKNOWN  Liquid Type_CO2 (CARBON DIOXIDE)  Liquid Type_CRUDE OIL  Liquid Type_HVL OR OTHER FLAMMABLE OR TOXIC FLUID, GAS  Liquid Type_REFINED AND/OR PETROLEUM PRODUCT (NON-HVL), LIQUID  Cause Category_CORROSION  Cause Category_EXCAVATION DAMAGE  Cause Category_INCORRECT OPERATION  Cause Category_MATERIAL/WELD/EQUIP FAILURE  Cause Category_NATURAL FORCE DAMAGE  Cause Category_OTHER OUTSIDE FORCE DAMAGE\n",
      "157        1                             0.21                0.00                 0.0           0.0             0.0            1.0           2015               3              5                78.116667                    0.041145                    0.008229                       True               False                          False                      False                  False                             False                  False                                                   False                                                            True                     False                             False                               False                                        True                                False                                      False\n",
      "1961       1                          1609.00             1609.00                 7.0           0.0             0.0            0.0           2015               6             17                80.916667                    0.012880                    0.112701                       True               False                          False                       True                  False                             False                  False                                                    True                                                           False                     False                              True                               False                                       False                                False                                      False\n",
      "1465       1                             3.40                3.40                 0.0           0.0             0.0            0.0           2012               5             14                52.383333                    0.013238                    0.000358                       True               False                          False                       True                  False                             False                  False                                                    True                                                           False                     False                             False                               False                                        True                                False                                      False\n",
      "879        1                             7.52                7.52                 0.0           0.0             0.0            0.0           2010               7             15                96.666667                    0.055456                    0.025045                       True               False                          False                       True                  False                             False                  False                                                    True                                                           False                     False                             False                               False                                       False                                False                                      False\n",
      "238        0                             1.00                1.00                 0.0           0.0             0.0            0.0           2014               7              9                52.000000                    0.004293                    0.000358                       True               False                          False                       True                  False                              True                  False                                                   False                                                           False                      True                             False                               False                                       False                                False                                      False\n",
      "\n",
      "Contoh 5 baris pertama dari y_train:\n",
      "157      8.415382\n",
      "1961    11.916242\n",
      "1465    11.140586\n",
      "879     12.473493\n",
      "238      9.680406\n"
     ]
    }
   ],
   "source": [
    "from sklearn.model_selection import train_test_split\n",
    "print(\"\\nMelakukan pembagian data menjadi set pelatihan dan pengujian...\")\n",
    "    \n",
    "X_train, X_test, y_train, y_test = train_test_split(X_encoded, y_model, test_size=0.2, random_state=42)\n",
    "\n",
    "print(f\"Ukuran X_train: {X_train.shape}\")\n",
    "print(f\"Ukuran X_test: {X_test.shape}\")\n",
    "print(f\"Ukuran y_train: {y_train.shape}\")\n",
    "print(f\"Ukuran y_test: {y_test.shape}\")\n",
    "    \n",
    "print(\"\\nContoh 5 baris pertama dari X_train:\")\n",
    "print(X_train.head().to_string())\n",
    "print(\"\\nContoh 5 baris pertama dari y_train:\")\n",
    "print(y_train.head().to_string())"
   ]
  },
  {
   "cell_type": "markdown",
   "id": "fbf93215",
   "metadata": {},
   "source": [
    "##### 1.4: Feature Scaling"
   ]
  },
  {
   "cell_type": "code",
   "execution_count": 8,
   "id": "240bb5fc",
   "metadata": {},
   "outputs": [
    {
     "name": "stdout",
     "output_type": "stream",
     "text": [
      "\n",
      "Melakukan penskalaan fitur numerik...\n",
      "Kolom numerik yang akan diskalakan: ['Is_HVL', 'Unintentional Release (Barrels)', 'Net Loss (Barrels)', 'Public Evacuations', 'All Injuries', 'All Fatalities', 'Recovery_Rate', 'Accident_Year', 'Accident_Month', 'Accident_Hour', 'Shutdown_Duration_Hours', 'Operator Name_freq_encoded', 'Accident City_freq_encoded']\n",
      "\n",
      "Dimensi X_train setelah penskalaan: (2236, 13)\n",
      "Contoh 5 baris pertama X_train setelah penskalaan:\n",
      "        Is_HVL  Unintentional Release (Barrels)  Net Loss (Barrels)  Public Evacuations  All Injuries  All Fatalities  Recovery_Rate  Accident_Year  Accident_Month  Accident_Hour  Shutdown_Duration_Hours  Operator Name_freq_encoded  Accident City_freq_encoded\n",
      "157   1.033661                        -0.155987           -0.111816           -0.050478     -0.056837       -0.044906       0.777825       0.933266       -0.931500      -1.352924                -0.028495                    0.516664                   -0.249090\n",
      "1961  1.033661                         1.026665            1.311946            0.328274     -0.056837       -0.044906      -1.500411       0.933266       -0.067970       1.094929                -0.024363                   -0.670345                    2.704825\n",
      "1465  1.033661                        -0.153642           -0.108808           -0.050478     -0.056837       -0.044906      -1.500411      -0.592532       -0.355813       0.482966                -0.066474                   -0.655319                   -0.471645\n",
      "879   1.033661                        -0.150613           -0.105162           -0.050478     -0.056837       -0.044906      -1.500411      -1.609731        0.219873       0.686953                -0.001118                    1.117681                    0.226369\n",
      "238  -0.967435                        -0.155406           -0.110931           -0.050478     -0.056837       -0.044906      -1.500411       0.424667        0.219873      -0.536973                -0.067040                   -1.030955                   -0.471645\n",
      "\n",
      "Dimensi X_test setelah penskalaan: (559, 13)\n",
      "Contoh 5 baris pertama X_test setelah penskalaan:\n",
      "        Is_HVL  Unintentional Release (Barrels)  Net Loss (Barrels)  Public Evacuations  All Injuries  All Fatalities  Recovery_Rate  Accident_Year  Accident_Month  Accident_Hour  Shutdown_Duration_Hours  Operator Name_freq_encoded  Accident City_freq_encoded\n",
      "1025  1.033661                        -0.156068           -0.111728           -0.050478     -0.056837       -0.044906      -1.500411       1.441866        1.371246       0.890941                -0.145261                    1.117681                   -0.471645\n",
      "2407 -0.967435                        -0.151878           -0.111816           -0.050478     -0.056837       -0.044906       0.777825       1.441866       -0.355813       0.074990                -0.145261                   -0.309735                   -0.340135\n",
      "450   1.033661                         3.111094            3.821007           -0.050478     42.305630       33.425297      -1.500411       1.441866        1.083403       0.482966                 0.055089                    0.832197                   -0.431180\n",
      "2594 -0.967435                        -0.156053           -0.111816           -0.050478     -0.056837       -0.044906       0.777825       1.441866        0.219873       0.278978                -0.145261                    1.493316                   -0.380600\n",
      "439   1.033661                        -0.145637           -0.104224           -0.050478     -0.056837       -0.044906      -0.590073       1.441866       -0.643657       1.298916                -0.095278                    0.832197                   -0.471645\n"
     ]
    }
   ],
   "source": [
    "from sklearn.preprocessing import StandardScaler\n",
    "if 'X_train' in locals() and 'X_test' in locals() and not X_train.empty:\n",
    "    print(\"\\nMelakukan penskalaan fitur numerik...\")\n",
    "\n",
    "    numerical_cols_to_scale = X_train.select_dtypes(include=np.number).columns.tolist()\n",
    "\n",
    "    if not numerical_cols_to_scale:\n",
    "        print(\"Tidak ada kolom numerik yang teridentifikasi untuk penskalaan di X_train.\")\n",
    "    else:\n",
    "        print(f\"Kolom numerik yang akan diskalakan: {numerical_cols_to_scale}\")\n",
    "\n",
    "        scaler = StandardScaler()\n",
    "\n",
    "        X_train_scaled_array = scaler.fit_transform(X_train[numerical_cols_to_scale])\n",
    "        \n",
    "        X_test_scaled_array = scaler.transform(X_test[numerical_cols_to_scale])\n",
    "\n",
    "        X_train_scaled = pd.DataFrame(X_train_scaled_array, columns=numerical_cols_to_scale, index=X_train.index)\n",
    "        X_test_scaled = pd.DataFrame(X_test_scaled_array, columns=numerical_cols_to_scale, index=X_test.index)\n",
    "        \n",
    "        X_train_processed = X_train_scaled\n",
    "        X_test_processed = X_test_scaled\n",
    "\n",
    "        print(\"\\nDimensi X_train setelah penskalaan:\", X_train_processed.shape)\n",
    "        print(\"Contoh 5 baris pertama X_train setelah penskalaan:\")\n",
    "        print(X_train_processed.head().to_string())\n",
    "\n",
    "        print(\"\\nDimensi X_test setelah penskalaan:\", X_test_processed.shape)\n",
    "        print(\"Contoh 5 baris pertama X_test setelah penskalaan:\")\n",
    "        print(X_test_processed.head().to_string())\n",
    "else:\n",
    "    print(\"DataFrame X_train atau X_test belum terdefinisi. Jalankan langkah pembagian data terlebih dahulu.\")\n"
   ]
  },
  {
   "cell_type": "markdown",
   "id": "e66570d8",
   "metadata": {},
   "source": [
    "#### Tahap 2: Pemilihan dan Pelatihan Model Regresi\n",
    "Kita akan memulai dengan beberapa model yang umum digunakan untuk tugas regresi:\n",
    "1. Regresi Linear (Linear Regression): Sebagai model dasar (baseline) untuk perbandingan.\n",
    "2. Random Forest Regressor: Model ensemble yang kuat dan sering memberikan hasil baik, serta dapat memberikan informasi mengenai pentingnya fitur.\n",
    "3. Gradient Boosting Regressor: Model ensemble lain yang juga sangat powerful dan seringkali menjadi salah satu model dengan performa terbaik."
   ]
  },
  {
   "cell_type": "code",
   "execution_count": 9,
   "id": "095ebd1e",
   "metadata": {},
   "outputs": [
    {
     "name": "stdout",
     "output_type": "stream",
     "text": [
      "Memulai pelatihan model regresi awal...\n",
      "\n",
      "Melatih model: Linear Regression...\n",
      "Model Linear Regression berhasil dilatih dan prediksi pada data tes dibuat.\n",
      "Contoh 5 prediksi pertama dari Linear Regression (pada skala log): [ 9.4728858  10.18973694  7.54753351 10.00132084  9.85717167]\n",
      "\n",
      "Melatih model: Decision Tree...\n",
      "Model Decision Tree berhasil dilatih dan prediksi pada data tes dibuat.\n",
      "Contoh 5 prediksi pertama dari Decision Tree (pada skala log): [ 7.91971976  9.82558006 12.79975854  4.2341065  12.98723299]\n",
      "\n",
      "Melatih model: Random Forest...\n",
      "Model Random Forest berhasil dilatih dan prediksi pada data tes dibuat.\n",
      "Contoh 5 prediksi pertama dari Random Forest (pada skala log): [ 7.22778078 10.08792946 13.29301076  7.32093865 12.48940947]\n",
      "\n",
      "Melatih model: Gradient Boosting...\n",
      "Model Gradient Boosting berhasil dilatih dan prediksi pada data tes dibuat.\n",
      "Contoh 5 prediksi pertama dari Gradient Boosting (pada skala log): [ 7.79504171 10.3679447  11.01717744  6.89155079 13.34384181]\n",
      "\n",
      "Pelatihan semua model awal selesai.\n"
     ]
    }
   ],
   "source": [
    "from sklearn.linear_model import LinearRegression\n",
    "from sklearn.ensemble import RandomForestRegressor, GradientBoostingRegressor\n",
    "from sklearn.tree import DecisionTreeRegressor\n",
    "\n",
    "if 'X_train_processed' in locals() and 'y_train' in locals() and 'X_test_processed' in locals():\n",
    "    print(\"Memulai pelatihan model regresi awal...\")\n",
    "\n",
    "    # 1. Regresi Linear\n",
    "    lr_model = LinearRegression()\n",
    "\n",
    "    # 2. Decision Tree Regressor (sebagai baseline yang lebih kompleks dari linear)\n",
    "    dt_model = DecisionTreeRegressor(random_state=42)\n",
    "\n",
    "    # 3. Random Forest Regressor\n",
    "    rf_model = RandomForestRegressor(n_estimators=100, random_state=42, n_jobs=-1, max_depth=10, min_samples_split=10) \n",
    "\n",
    "    # 4. Gradient Boosting Regressor\n",
    "    gbr_model = GradientBoostingRegressor(n_estimators=100, learning_rate=0.1, max_depth=5, random_state=42, min_samples_split=10)\n",
    "\n",
    "    models = {\n",
    "        \"Linear Regression\": lr_model,\n",
    "        \"Decision Tree\": dt_model,\n",
    "        \"Random Forest\": rf_model,\n",
    "        \"Gradient Boosting\": gbr_model\n",
    "    }\n",
    "\n",
    "    predictions_test = {}\n",
    "    trained_models = {}\n",
    "\n",
    "    for name, model in models.items():\n",
    "        print(f\"\\nMelatih model: {name}...\")\n",
    "        try:\n",
    "            model.fit(X_train_processed, y_train)\n",
    "            y_pred_test = model.predict(X_test_processed)\n",
    "            \n",
    "            predictions_test[name] = y_pred_test\n",
    "            trained_models[name] = model\n",
    "            \n",
    "            print(f\"Model {name} berhasil dilatih dan prediksi pada data tes dibuat.\")\n",
    "            print(f\"Contoh 5 prediksi pertama dari {name} (pada skala log): {y_pred_test[:5]}\")\n",
    "        except Exception as e:\n",
    "            print(f\"Error saat melatih atau memprediksi dengan {name}: {e}\")\n",
    "            predictions_test[name] = None\n",
    "            trained_models[name] = None\n",
    "\n",
    "    print(\"\\nPelatihan semua model awal selesai.\")\n",
    "else:\n",
    "    print(\"Data pelatihan (X_train_processed, y_train) atau data tes (X_test_processed) belum terdefinisi. Jalankan langkah persiapan data terlebih dahulu.\")\n"
   ]
  },
  {
   "cell_type": "markdown",
   "id": "6596b266",
   "metadata": {},
   "source": [
    "##### 2.2: Evaluasi Model Regresi"
   ]
  },
  {
   "cell_type": "code",
   "execution_count": 10,
   "id": "ee65b029",
   "metadata": {},
   "outputs": [
    {
     "name": "stdout",
     "output_type": "stream",
     "text": [
      "Memulai evaluasi model regresi...\n",
      "\n",
      "--- Mengevaluasi Model: Linear Regression ---\n",
      "Metrik pada Skala Logaritmik:\n",
      "  Mean Absolute Error (MAE): 1.7569\n",
      "  Mean Squared Error (MSE): 5.7039\n",
      "  Root Mean Squared Error (RMSE): 2.3883\n",
      "  R-squared (R²): 0.0822\n",
      "\n",
      "Metrik pada Skala Asli (USD):\n",
      "  Mean Absolute Error (MAE): $1,140,787.72\n",
      "  Root Mean Squared Error (RMSE): $21,522,367.23\n",
      "  R-squared (R²) (pada skala asli): -417.6648\n",
      "\n",
      "--- Mengevaluasi Model: Decision Tree ---\n",
      "Metrik pada Skala Logaritmik:\n",
      "  Mean Absolute Error (MAE): 1.8814\n",
      "  Mean Squared Error (MSE): 6.5779\n",
      "  Root Mean Squared Error (RMSE): 2.5647\n",
      "  R-squared (R²): -0.0585\n",
      "\n",
      "Metrik pada Skala Asli (USD):\n",
      "  Mean Absolute Error (MAE): $1,762,028.16\n",
      "  Root Mean Squared Error (RMSE): $35,132,816.94\n",
      "  R-squared (R²) (pada skala asli): -1114.6097\n",
      "\n",
      "--- Mengevaluasi Model: Random Forest ---\n",
      "Metrik pada Skala Logaritmik:\n",
      "  Mean Absolute Error (MAE): 1.3226\n",
      "  Mean Squared Error (MSE): 3.7910\n",
      "  Root Mean Squared Error (RMSE): 1.9471\n",
      "  R-squared (R²): 0.3900\n",
      "\n",
      "Metrik pada Skala Asli (USD):\n",
      "  Mean Absolute Error (MAE): $195,600.32\n",
      "  Root Mean Squared Error (RMSE): $810,370.37\n",
      "  R-squared (R²) (pada skala asli): 0.4065\n",
      "\n",
      "--- Mengevaluasi Model: Gradient Boosting ---\n",
      "Metrik pada Skala Logaritmik:\n",
      "  Mean Absolute Error (MAE): 1.3598\n",
      "  Mean Squared Error (MSE): 3.7208\n",
      "  Root Mean Squared Error (RMSE): 1.9289\n",
      "  R-squared (R²): 0.4013\n",
      "\n",
      "Metrik pada Skala Asli (USD):\n",
      "  Mean Absolute Error (MAE): $260,210.07\n",
      "  Root Mean Squared Error (RMSE): $1,361,843.63\n",
      "  R-squared (R²) (pada skala asli): -0.6763\n",
      "\n",
      "\n",
      "============================== Ringkasan Hasil Evaluasi Model ==============================\n",
      "               Model  MAE (Log)  RMSE (Log)  R² (Log) MAE (Original USD) RMSE (Original USD)  R² (Original USD)\n",
      "0  Linear Regression     1.7569      2.3883    0.0822      $1,140,787.72      $21,522,367.23          -417.6648\n",
      "1      Decision Tree     1.8814      2.5647   -0.0585      $1,762,028.16      $35,132,816.94         -1114.6097\n",
      "2      Random Forest     1.3226      1.9471    0.3900        $195,600.32         $810,370.37             0.4065\n",
      "3  Gradient Boosting     1.3598      1.9289    0.4013        $260,210.07       $1,361,843.63            -0.6763\n"
     ]
    }
   ],
   "source": [
    "from sklearn.metrics import mean_absolute_error, mean_squared_error, r2_score\n",
    "\n",
    "if 'y_test' in locals() and 'predictions_test' in locals() and predictions_test:\n",
    "    print(\"Memulai evaluasi model regresi...\")\n",
    "\n",
    "    results_summary = []\n",
    "\n",
    "    for name, y_pred_log in predictions_test.items():\n",
    "        if y_pred_log is None:\n",
    "            print(f\"\\nModel {name} tidak berhasil dilatih atau membuat prediksi, evaluasi dilewati.\")\n",
    "            continue\n",
    "\n",
    "        print(f\"\\n--- Mengevaluasi Model: {name} ---\")\n",
    "\n",
    "        mae_log = mean_absolute_error(y_test, y_pred_log)\n",
    "        mse_log = mean_squared_error(y_test, y_pred_log)\n",
    "        rmse_log = np.sqrt(mse_log)\n",
    "        r2_log = r2_score(y_test, y_pred_log)\n",
    "\n",
    "        print(\"Metrik pada Skala Logaritmik:\")\n",
    "        print(f\"  Mean Absolute Error (MAE): {mae_log:.4f}\")\n",
    "        print(f\"  Mean Squared Error (MSE): {mse_log:.4f}\")\n",
    "        print(f\"  Root Mean Squared Error (RMSE): {rmse_log:.4f}\")\n",
    "        print(f\"  R-squared (R²): {r2_log:.4f}\")\n",
    "\n",
    "        y_test_original = np.expm1(y_test)\n",
    "        y_pred_original = np.expm1(y_pred_log)\n",
    "        \n",
    "        y_pred_original[y_pred_original < 0] = 0\n",
    "\n",
    "        mae_original = mean_absolute_error(y_test_original, y_pred_original)\n",
    "        mse_original = mean_squared_error(y_test_original, y_pred_original)\n",
    "        rmse_original = np.sqrt(mse_original)\n",
    "        r2_original = r2_score(y_test_original, y_pred_original)\n",
    "\n",
    "\n",
    "        print(\"\\nMetrik pada Skala Asli (USD):\")\n",
    "        print(f\"  Mean Absolute Error (MAE): ${mae_original:,.2f}\")\n",
    "        print(f\"  Root Mean Squared Error (RMSE): ${rmse_original:,.2f}\")\n",
    "        print(f\"  R-squared (R²) (pada skala asli): {r2_original:.4f}\")\n",
    "        \n",
    "        results_summary.append({\n",
    "            \"Model\": name,\n",
    "            \"MAE (Log)\": mae_log,\n",
    "            \"RMSE (Log)\": rmse_log,\n",
    "            \"R² (Log)\": r2_log,\n",
    "            \"MAE (Original USD)\": mae_original,\n",
    "            \"RMSE (Original USD)\": rmse_original,\n",
    "            \"R² (Original USD)\": r2_original\n",
    "        })\n",
    "\n",
    "    if results_summary:\n",
    "        results_df = pd.DataFrame(results_summary)\n",
    "        print(\"\\n\\n\" + \"=\"*30 + \" Ringkasan Hasil Evaluasi Model \" + \"=\"*30)\n",
    "        results_df_display = results_df.copy()\n",
    "        results_df_display['MAE (Original USD)'] = results_df_display['MAE (Original USD)'].map('${:,.2f}'.format)\n",
    "        results_df_display['RMSE (Original USD)'] = results_df_display['RMSE (Original USD)'].map('${:,.2f}'.format)\n",
    "        results_df_display = results_df_display.round(4)\n",
    "        print(results_df_display.to_string())\n",
    "\n",
    "else:\n",
    "    print(\"Variabel y_test atau predictions_test belum terdefinisi. Jalankan langkah pelatihan model terlebih dahulu.\")"
   ]
  },
  {
   "cell_type": "markdown",
   "id": "3307cf88",
   "metadata": {},
   "source": [
    "Dapat dilihat bahwa model Random Forest menjadi model yang terbaik."
   ]
  },
  {
   "cell_type": "markdown",
   "id": "2891fb9a",
   "metadata": {},
   "source": [
    "##### 2.3: Interpretasi Model dan Analisis Fitur Penting\n",
    "Langkah penting berikutnya adalah mencoba memahami mengapa model ini membuat prediksi seperti itu, yaitu dengan melihat fitur mana yang dianggap paling penting oleh model.\n",
    "\n",
    "Model berbasis pohon seperti Random Forest memiliki atribut feature_importances_ yang memberikan skor untuk setiap fitur, menunjukkan seberapa besar kontribusi fitur tersebut dalam mengurangi ketidakmurnian (impurity) atau error pada prediksi di seluruh pohon dalam forest. Fitur dengan skor lebih tinggi dianggap lebih penting oleh model.\n",
    "\n",
    "Kita akan mengambil model Random Forest yang telah dilatih (trained_models[\"Random Forest\"]) dan memvisualisasikan fitur-fitur terpentingnya."
   ]
  },
  {
   "cell_type": "code",
   "execution_count": 11,
   "id": "bfc05a12",
   "metadata": {},
   "outputs": [
    {
     "name": "stdout",
     "output_type": "stream",
     "text": [
      "Menganalisis Fitur Penting dari Model Random Forest...\n",
      "\n",
      "Top 15 Fitur Terpenting menurut Random Forest:\n",
      "                            feature  importance\n",
      "1   Unintentional Release (Barrels)    0.475596\n",
      "10          Shutdown_Duration_Hours    0.151940\n",
      "11       Operator Name_freq_encoded    0.085875\n",
      "6                     Recovery_Rate    0.053897\n",
      "9                     Accident_Hour    0.048506\n",
      "12       Accident City_freq_encoded    0.044451\n",
      "8                    Accident_Month    0.043994\n",
      "2                Net Loss (Barrels)    0.035257\n",
      "7                     Accident_Year    0.032508\n",
      "4                      All Injuries    0.010947\n",
      "0                            Is_HVL    0.007876\n",
      "3                Public Evacuations    0.005791\n",
      "5                    All Fatalities    0.003362\n"
     ]
    },
    {
     "data": {
      "image/png": "[encoded data removed]",
      "text/plain": [
       "<Figure size 900x500 with 1 Axes>"
      ]
     },
     "metadata": {},
     "output_type": "display_data"
    }
   ],
   "source": [
    "if 'trained_models' in locals() and \"Random Forest\" in trained_models and trained_models[\"Random Forest\"] is not None and \\\n",
    "   'X_train_processed' in locals() and not X_train_processed.empty:\n",
    "    \n",
    "    print(\"Menganalisis Fitur Penting dari Model Random Forest...\")\n",
    "    \n",
    "    rf_best_model = trained_models[\"Random Forest\"]\n",
    "    \n",
    "    # Mendapatkan pentingnya fitur\n",
    "    importances = rf_best_model.feature_importances_\n",
    "    feature_names = X_train_processed.columns\n",
    "    \n",
    "    # Membuat DataFrame untuk visualisasi\n",
    "    feature_importance_df = pd.DataFrame({'feature': feature_names, 'importance': importances})\n",
    "    feature_importance_df = feature_importance_df.sort_values(by='importance', ascending=False)\n",
    "\n",
    "    # Menampilkan N fitur terpenting\n",
    "    top_n_features = 15\n",
    "    print(f\"\\nTop {top_n_features} Fitur Terpenting menurut Random Forest:\")\n",
    "    print(feature_importance_df.head(top_n_features).to_string())\n",
    "\n",
    "    # Visualisasi Fitur Penting\n",
    "    plt.figure(figsize=(9, 5))\n",
    "    sns.barplot(x='importance', y='feature', \n",
    "                data=feature_importance_df.head(top_n_features), \n",
    "                hue='feature', palette='viridis', legend=False, dodge=False) # Menambahkan dodge=False\n",
    "    plt.title(f'Top {top_n_features} Fitur Terpenting - Random Forest', fontsize=16)\n",
    "    plt.xlabel('Pentingnya Fitur (Importance Score)', fontsize=12)\n",
    "    plt.ylabel('Nama Fitur', fontsize=12)\n",
    "    plt.tight_layout()\n",
    "    plt.show()\n",
    "\n",
    "else:\n",
    "    print(\"Model Random Forest belum dilatih atau X_train_processed tidak tersedia.\")\n"
   ]
  },
  {
   "cell_type": "markdown",
   "id": "8f178b1d",
   "metadata": {},
   "source": [
    "#####  2.4: Penyetelan Hyperparameter (Hyperparameter Tuning)\n",
    "Model Random Forest yang kita latih menggunakan parameter default (atau sedikit penyesuaian awal). Performa model seringkali dapat ditingkatkan dengan menyetel hyperparameter-nya. Hyperparameter adalah parameter yang nilainya diatur sebelum proses pelatihan model dimulai (misalnya, n_estimators, max_depth, min_samples_split pada Random Forest).\n",
    "\n",
    "Teknik umum untuk penyetelan hyperparameter adalah Grid Search atau Randomized Search."
   ]
  },
  {
   "cell_type": "code",
   "execution_count": 12,
   "id": "647ae707",
   "metadata": {},
   "outputs": [
    {
     "name": "stdout",
     "output_type": "stream",
     "text": [
      "\n",
      "Memulai Penyetelan Hyperparameter untuk Random Forest...\n",
      "Fitting 3 folds for each of 25 candidates, totalling 75 fits\n",
      "\n",
      "Penyetelan Hyperparameter Selesai.\n",
      "Parameter Terbaik yang Ditemukan untuk Random Forest:\n",
      "{'n_estimators': 200, 'min_samples_split': 15, 'min_samples_leaf': 2, 'max_features': 0.8, 'max_depth': None}\n",
      "\n",
      "--- Mengevaluasi Model Random Forest (Setelah Tuning) ---\n",
      "Metrik pada Skala Logaritmik (Tuned):\n",
      "  MAE: 1.3262, RMSE: 1.9463, R²: 0.3905\n",
      "\n",
      "Metrik pada Skala Asli (USD) (Tuned):\n",
      "  MAE: $205,105.10, RMSE: $894,407.17, R² (Original): 0.2770\n",
      "\n",
      "\n",
      "============================== Ringkasan Hasil Evaluasi Model (Termasuk Tuned) ==============================\n",
      "                 Model  MAE (Log)  RMSE (Log)  R² (Log) MAE (Original USD) RMSE (Original USD)  R² (Original USD)\n",
      "0    Linear Regression     1.7569      2.3883    0.0822      $1,140,787.72      $21,522,367.23          -417.6648\n",
      "1        Decision Tree     1.8814      2.5647   -0.0585      $1,762,028.16      $35,132,816.94         -1114.6097\n",
      "2        Random Forest     1.3226      1.9471    0.3900        $195,600.32         $810,370.37             0.4065\n",
      "3    Gradient Boosting     1.3598      1.9289    0.4013        $260,210.07       $1,361,843.63            -0.6763\n",
      "4  Random Forest Tuned     1.3262      1.9463    0.3905        $205,105.10         $894,407.17             0.2770\n"
     ]
    }
   ],
   "source": [
    "from sklearn.model_selection import RandomizedSearchCV\n",
    "from sklearn.ensemble import RandomForestRegressor\n",
    "from sklearn.metrics import mean_absolute_error, mean_squared_error, r2_score\n",
    "import numpy as np\n",
    "import pandas as pd\n",
    "\n",
    "if 'X_train_processed' in locals() and 'y_train' in locals() and \\\n",
    "   'X_test_processed' in locals() and 'y_test' in locals() and \\\n",
    "   'trained_models' in locals() and \"Random Forest\" in trained_models and \\\n",
    "   trained_models[\"Random Forest\"] is not None:\n",
    "\n",
    "    print(\"\\nMemulai Penyetelan Hyperparameter untuk Random Forest...\")\n",
    "\n",
    "    param_dist_rf = {\n",
    "        'n_estimators': [100, 150, 200, 250, 300],       # Jumlah pohon\n",
    "        'max_depth': [10, 15, 20, 25, None],             # Kedalaman maksimum pohon\n",
    "        'min_samples_split': [5, 10, 15, 20],            # Jumlah minimum sampel untuk membagi node\n",
    "        'min_samples_leaf': [2, 4, 6, 8],                # Jumlah minimum sampel pada leaf node\n",
    "        'max_features': ['sqrt', 'log2', 0.7, 0.8, None] # Jumlah fitur yang dipertimbangkan\n",
    "    }\n",
    "\n",
    "    rf_base_for_tuning = RandomForestRegressor(random_state=42, n_jobs=-1)\n",
    "    \n",
    "    rf_random_search = RandomizedSearchCV(estimator=rf_base_for_tuning, \n",
    "                                          param_distributions=param_dist_rf, \n",
    "                                          n_iter=25, \n",
    "                                          cv=3,     \n",
    "                                          verbose=1, \n",
    "                                          random_state=42, \n",
    "                                          n_jobs=-1, \n",
    "                                          scoring='neg_root_mean_squared_error')\n",
    "\n",
    "    try:\n",
    "        rf_random_search.fit(X_train_processed, y_train)\n",
    "\n",
    "        print(\"\\nPenyetelan Hyperparameter Selesai.\")\n",
    "        print(\"Parameter Terbaik yang Ditemukan untuk Random Forest:\")\n",
    "        print(rf_random_search.best_params_)\n",
    "        \n",
    "        best_rf_model_tuned = rf_random_search.best_estimator_\n",
    "        \n",
    "        trained_models[\"Random Forest Tuned\"] = best_rf_model_tuned\n",
    "        \n",
    "        print(\"\\n--- Mengevaluasi Model Random Forest (Setelah Tuning) ---\")\n",
    "        y_pred_test_tuned = best_rf_model_tuned.predict(X_test_processed)\n",
    "        \n",
    "        mae_log_tuned = mean_absolute_error(y_test, y_pred_test_tuned)\n",
    "        rmse_log_tuned = np.sqrt(mean_squared_error(y_test, y_pred_test_tuned))\n",
    "        r2_log_tuned = r2_score(y_test, y_pred_test_tuned)\n",
    "        print(\"Metrik pada Skala Logaritmik (Tuned):\")\n",
    "        print(f\"  MAE: {mae_log_tuned:.4f}, RMSE: {rmse_log_tuned:.4f}, R²: {r2_log_tuned:.4f}\")\n",
    "\n",
    "        y_test_original_tuned = np.expm1(y_test) \n",
    "        y_pred_original_tuned = np.expm1(y_pred_test_tuned)\n",
    "        y_pred_original_tuned[y_pred_original_tuned < 0] = 0 \n",
    "        \n",
    "        mae_original_tuned = mean_absolute_error(y_test_original_tuned, y_pred_original_tuned)\n",
    "        rmse_original_tuned = np.sqrt(mean_squared_error(y_test_original_tuned, y_pred_original_tuned))\n",
    "        r2_original_tuned = r2_score(y_test_original_tuned, y_pred_original_tuned)\n",
    "        print(\"\\nMetrik pada Skala Asli (USD) (Tuned):\")\n",
    "        print(f\"  MAE: ${mae_original_tuned:,.2f}, RMSE: ${rmse_original_tuned:,.2f}, R² (Original): {r2_original_tuned:.4f}\")\n",
    "\n",
    "        if 'results_summary' in locals() and isinstance(results_summary, list):\n",
    "            results_summary.append({\n",
    "                \"Model\": \"Random Forest Tuned\",\n",
    "                \"MAE (Log)\": mae_log_tuned,\n",
    "                \"RMSE (Log)\": rmse_log_tuned,\n",
    "                \"R² (Log)\": r2_log_tuned,\n",
    "                \"MAE (Original USD)\": mae_original_tuned,\n",
    "                \"RMSE (Original USD)\": rmse_original_tuned,\n",
    "                \"R² (Original USD)\": r2_original_tuned\n",
    "            })\n",
    "            results_df_updated = pd.DataFrame(results_summary)\n",
    "            print(\"\\n\\n\" + \"=\"*30 + \" Ringkasan Hasil Evaluasi Model (Termasuk Tuned) \" + \"=\"*30)\n",
    "            results_df_display_updated = results_df_updated.copy()\n",
    "            results_df_display_updated['MAE (Original USD)'] = results_df_display_updated['MAE (Original USD)'].map('${:,.2f}'.format)\n",
    "            results_df_display_updated['RMSE (Original USD)'] = results_df_display_updated['RMSE (Original USD)'].map('${:,.2f}'.format)\n",
    "            results_df_display_updated = results_df_display_updated.round(4)\n",
    "            print(results_df_display_updated.to_string())\n",
    "        else:\n",
    "            results_summary_tuned_only = [{\n",
    "                \"Model\": \"Random Forest Tuned\",\n",
    "                \"MAE (Log)\": mae_log_tuned,\n",
    "                \"RMSE (Log)\": rmse_log_tuned,\n",
    "                \"R² (Log)\": r2_log_tuned,\n",
    "                \"MAE (Original USD)\": mae_original_tuned,\n",
    "                \"RMSE (Original USD)\": rmse_original_tuned,\n",
    "                \"R² (Original USD)\": r2_original_tuned\n",
    "            }]\n",
    "            results_df_tuned_only = pd.DataFrame(results_summary_tuned_only)\n",
    "\n",
    "    except Exception as e:\n",
    "        print(f\"Error saat penyetelan hyperparameter: {e}\")\n",
    "else:\n",
    "    print(\"Data atau model yang diperlukan untuk penyetelan hyperparameter tidak tersedia. Jalankan langkah sebelumnya.\")"
   ]
  },
  {
   "cell_type": "markdown",
   "id": "f8455193",
   "metadata": {},
   "source": [
    "##### 2.5 Model Alternatif\n",
    "Dapat dilihat bahwa Model terbaik menggunakan Random Forest pertama dengan nilai MAE (Mean Absolute Error) sebesar $195,600.32 berarti bahwa secara rata-rata, hasil prediksi model kita meleset sebesar ±$195,600.32 dari nilai sebenarnya.\n",
    "\n",
    "Hal ini tidak cukup baik mengingat median datanya sebesar $23K. Kita perlu melakukan penyesuaian lain agar model lebih dapat digunakan."
   ]
  },
  {
   "cell_type": "code",
   "execution_count": 13,
   "id": "a3e22b1a",
   "metadata": {},
   "outputs": [
    {
     "data": {
      "image/png": "[encoded data removed]",
      "text/plain": [
       "<Figure size 1200x200 with 1 Axes>"
      ]
     },
     "metadata": {},
     "output_type": "display_data"
    },
    {
     "name": "stdout",
     "output_type": "stream",
     "text": [
      "10 Insiden dengan Biaya Tertinggi:\n",
      " Report Number                        Operator Name  Accident Date/Time  All Costs\n",
      "      20100181 ENBRIDGE ENERGY, LIMITED PARTNERSHIP 2010-07-25 17:58:00  840526118\n",
      "      20150224                PLAINS PIPELINE, L.P. 2015-05-19 10:57:00  142931884\n",
      "      20110262               EXXONMOBIL PIPELINE CO 2011-07-01 22:40:00  135000000\n",
      "      20130151            MOBIL  PIPE  LINE COMPANY 2013-03-29 14:37:00   91300000\n",
      "      20160324                 COLONIAL PIPELINE CO 2016-09-09 11:10:00   66234072\n",
      "      20100221 ENBRIDGE ENERGY, LIMITED PARTNERSHIP 2010-09-09 11:30:00   47393566\n",
      "      20110140               MARATHON PIPE LINE LLC 2011-04-13 18:58:00   35728903\n",
      "      20100146                 CHEVRON PIPE LINE CO 2010-06-12 07:42:00   32233740\n",
      "      20100124          ALYESKA PIPELINE SERVICE CO 2010-05-25 11:00:00   28938000\n",
      "      20140393   CHEVRON PETROCHEMICAL PIPELINE LLC 2014-10-10 12:30:00   24323483\n"
     ]
    }
   ],
   "source": [
    "plt.figure(figsize=(12, 2))\n",
    "sns.boxplot(x=df_model['All Costs'], color='salmon')\n",
    "plt.title('Boxplot All Costs (Menunjukkan Outlier)', fontsize=14)\n",
    "plt.xlabel('All Costs (USD)')\n",
    "plt.show()\n",
    "\n",
    "\n",
    "df_model['All Costs'] = pd.to_numeric(df_model['All Costs'], errors='coerce')\n",
    "top_10_costs = df_model.sort_values(by='All Costs', ascending=False).head(10)\n",
    "print(\"10 Insiden dengan Biaya Tertinggi:\")\n",
    "print(top_10_costs[['Report Number', 'Operator Name', 'Accident Date/Time', 'All Costs']].to_string(index=False))"
   ]
  },
  {
   "cell_type": "markdown",
   "id": "1af982f0",
   "metadata": {},
   "source": [
    "Dapat dilihat data dengan nilai All Costs tertinggi sangat jauh dibandingkan data lainnya. Kita akan melakukan model alternatif dengan cara menghapus data tersebut. Penghapusan data sebenarnya tidak selalu menjadi solusi yang baik dalam pembuatan model, hal ini kita lakukan untuk membandingkan apakah dengan menghapus data ekstrim dapat lebih baik dalam memprediksi kasus secara umum."
   ]
  },
  {
   "cell_type": "code",
   "execution_count": 14,
   "id": "563572bf",
   "metadata": {},
   "outputs": [
    {
     "name": "stdout",
     "output_type": "stream",
     "text": [
      "Total data               : 2795\n",
      "Jumlah data outlier      : 418\n",
      "Jumlah data non-outlier  : 2377\n",
      "Persentase outlier       : 14.96%\n",
      "Persentase non-outlier   : 85.04%\n"
     ]
    }
   ],
   "source": [
    "# Total data\n",
    "total_data = len(df_model)\n",
    "\n",
    "# Hitung batas atas outlier menggunakan IQR (Interquartile Range)\n",
    "Q1 = df_model['All Costs'].quantile(0.25)\n",
    "Q3 = df_model['All Costs'].quantile(0.75)\n",
    "IQR = Q3 - Q1\n",
    "upper_bound = Q3 + 1.5 * IQR\n",
    "\n",
    "# Buat dua subset: outlier dan non-outlier\n",
    "outliers = df_model[df_model['All Costs'] > upper_bound]\n",
    "non_outliers = df_model[df_model['All Costs'] <= upper_bound]\n",
    "\n",
    "# Hitung jumlah masing-masing\n",
    "total_outliers = len(outliers)\n",
    "total_non_outliers = len(non_outliers)\n",
    "\n",
    "# Hitung persentase\n",
    "percentage_outliers = (total_outliers / total_data) * 100\n",
    "percentage_non_outliers = (total_non_outliers / total_data) * 100\n",
    "\n",
    "# Cetak hasil\n",
    "print(\"Total data               :\", total_data)\n",
    "print(\"Jumlah data outlier      :\", total_outliers)\n",
    "print(\"Jumlah data non-outlier  :\", total_non_outliers)\n",
    "print(f\"Persentase outlier       : {percentage_outliers:.2f}%\")\n",
    "print(f\"Persentase non-outlier   : {percentage_non_outliers:.2f}%\")"
   ]
  },
  {
   "cell_type": "markdown",
   "id": "381c2da0",
   "metadata": {},
   "source": [
    "Dapat dilihat bahwa presentase data Outlier bisa dibilang tidak cukup besar. Kita dapat mencoba untuk menghapus seluruh data outlier dan membandingkan kualitas modelnya dengan sebelum menghapusnya."
   ]
  },
  {
   "cell_type": "code",
   "execution_count": 15,
   "id": "8e2c9c3e",
   "metadata": {},
   "outputs": [
    {
     "name": "stdout",
     "output_type": "stream",
     "text": [
      "Jumlah data awal         : 2795\n",
      "Jumlah data setelah drop : 2377\n",
      "Jumlah outlier dihapus   : 418\n"
     ]
    }
   ],
   "source": [
    "# Salin DataFrame agar data asli tidak berubah\n",
    "df_no_outlier = df_model.copy()\n",
    "\n",
    "# Hitung IQR dan batas atas\n",
    "Q1 = df_no_outlier['All Costs'].quantile(0.25)\n",
    "Q3 = df_no_outlier['All Costs'].quantile(0.75)\n",
    "IQR = Q3 - Q1\n",
    "upper_bound = Q3 + 1.5 * IQR\n",
    "\n",
    "# Filter hanya data yang bukan outlier\n",
    "df_no_outlier = df_no_outlier[df_no_outlier['All Costs'] <= upper_bound]\n",
    "\n",
    "# Tampilkan ringkasan hasil\n",
    "print(f\"Jumlah data awal         : {len(df_model)}\")\n",
    "print(f\"Jumlah data setelah drop : {len(df_no_outlier)}\")\n",
    "print(f\"Jumlah outlier dihapus   : {len(df_model) - len(df_no_outlier)}\")"
   ]
  },
  {
   "cell_type": "code",
   "execution_count": 16,
   "id": "48ccef1d",
   "metadata": {},
   "outputs": [
    {
     "name": "stdout",
     "output_type": "stream",
     "text": [
      "\n",
      "============================== Ringkasan Hasil Evaluasi Model ==============================\n",
      "            Model  MAE (Log)  RMSE (Log)  R² (Log)  MAE (USD) RMSE (USD)  R² (USD)\n",
      "Linear Regression     1.5046      2.0083    0.1105 $41,281.04 $88,976.76   -0.8343\n",
      "    Decision Tree     1.7233      2.4402   -0.3131 $46,610.40 $76,904.13   -0.3703\n",
      "    Random Forest     1.2546      1.7224    0.3457 $32,437.47 $61,117.38    0.1345\n",
      "Gradient Boosting     1.2067      1.6378    0.4085 $33,240.10 $62,995.73    0.0805\n"
     ]
    }
   ],
   "source": [
    "# --- 1. Siapkan X dan y ---\n",
    "features_to_exclude = ['Cost_per_Barrel_Lost', 'Avg_AllCosts_Operator']\n",
    "predictor_cols = [col for col in predictor_cols if col not in features_to_exclude]\n",
    "existing_cols = [col for col in predictor_cols if col in df_no_outlier.columns]\n",
    "X = df_no_outlier[existing_cols].copy()\n",
    "y = np.log1p(df_no_outlier['All Costs'].copy())  # Log transform target\n",
    "\n",
    "# --- 2. Encoding ---\n",
    "cat_cols = X.select_dtypes(include=['object', 'category']).columns.tolist()\n",
    "high_card, low_card = [], []\n",
    "for col in cat_cols:\n",
    "    if X[col].nunique() > 50 and col in ['Operator Name', 'Accident City']:\n",
    "        high_card.append(col)\n",
    "    else:\n",
    "        low_card.append(col)\n",
    "\n",
    "for col in high_card:\n",
    "    freq_map = X[col].value_counts(normalize=True)\n",
    "    X[col + '_freq_encoded'] = X[col].map(freq_map)\n",
    "    X.drop(col, axis=1, inplace=True)\n",
    "\n",
    "X = pd.get_dummies(X, columns=low_card, drop_first=True)\n",
    "\n",
    "# --- 3. Split & Scale ---\n",
    "X_train, X_test, y_train, y_test = train_test_split(X, y, test_size=0.2, random_state=42)\n",
    "scaler = StandardScaler()\n",
    "X_train_scaled = pd.DataFrame(scaler.fit_transform(X_train), columns=X_train.columns, index=X_train.index)\n",
    "X_test_scaled = pd.DataFrame(scaler.transform(X_test), columns=X_test.columns, index=X_test.index)\n",
    "\n",
    "# --- 4. Train Models ---\n",
    "models = {\n",
    "    \"Linear Regression\": LinearRegression(),\n",
    "    \"Decision Tree\": DecisionTreeRegressor(random_state=42),\n",
    "    \"Random Forest\": RandomForestRegressor(n_estimators=100, random_state=42, max_depth=10, min_samples_split=10, n_jobs=-1),\n",
    "    \"Gradient Boosting\": GradientBoostingRegressor(n_estimators=100, learning_rate=0.1, max_depth=5, random_state=42, min_samples_split=10)\n",
    "}\n",
    "\n",
    "results = []\n",
    "for name, model in models.items():\n",
    "    model.fit(X_train_scaled, y_train)\n",
    "    y_pred_log = model.predict(X_test_scaled)\n",
    "\n",
    "    # Evaluasi pada skala log\n",
    "    mae_log = mean_absolute_error(y_test, y_pred_log)\n",
    "    rmse_log = np.sqrt(mean_squared_error(y_test, y_pred_log))\n",
    "    r2_log = r2_score(y_test, y_pred_log)\n",
    "\n",
    "    # Kembalikan ke skala asli\n",
    "    y_test_orig = np.expm1(y_test)\n",
    "    y_pred_orig = np.expm1(y_pred_log)\n",
    "    y_pred_orig[y_pred_orig < 0] = 0\n",
    "\n",
    "    mae = mean_absolute_error(y_test_orig, y_pred_orig)\n",
    "    rmse = np.sqrt(mean_squared_error(y_test_orig, y_pred_orig))\n",
    "    r2 = r2_score(y_test_orig, y_pred_orig)\n",
    "\n",
    "    results.append({\n",
    "        \"Model\": name,\n",
    "        \"MAE (Log)\": mae_log,\n",
    "        \"RMSE (Log)\": rmse_log,\n",
    "        \"R² (Log)\": r2_log,\n",
    "        \"MAE (USD)\": mae,\n",
    "        \"RMSE (USD)\": rmse,\n",
    "        \"R² (USD)\": r2\n",
    "    })\n",
    "\n",
    "# --- 5. Tampilkan Hasil ---\n",
    "results_df = pd.DataFrame(results)\n",
    "results_df['MAE (USD)'] = results_df['MAE (USD)'].map('${:,.2f}'.format)\n",
    "results_df['RMSE (USD)'] = results_df['RMSE (USD)'].map('${:,.2f}'.format)\n",
    "results_df = results_df.round(4)\n",
    "\n",
    "print(\"\\n\" + \"=\"*30 + \" Ringkasan Hasil Evaluasi Model \" + \"=\"*30)\n",
    "print(results_df.to_string(index=False))\n"
   ]
  },
  {
   "cell_type": "code",
   "execution_count": 17,
   "id": "6e07816a",
   "metadata": {},
   "outputs": [
    {
     "data": {
      "text/plain": [
       "count      2377.000000\n",
       "mean      41282.323938\n",
       "std       60047.754208\n",
       "min           0.000000\n",
       "25%        3904.000000\n",
       "50%       15275.000000\n",
       "75%       47000.000000\n",
       "max      285500.000000\n",
       "Name: All Costs, dtype: float64"
      ]
     },
     "execution_count": 17,
     "metadata": {},
     "output_type": "execute_result"
    }
   ],
   "source": [
    "df_no_outlier['All Costs'].describe()"
   ]
  },
  {
   "cell_type": "markdown",
   "id": "cdf80381",
   "metadata": {},
   "source": [
    "Berdasarkan hasil evaluasi model yang menggunakan data tanpa outlier dapat dilihat bahwa error nya lebih baik dari sebelumnya. Akan tetapi perbandingan std fan mean nya tergolong buruk, yang menandakan kualitas datanya kurang baik. "
   ]
  },
  {
   "cell_type": "markdown",
   "id": "8adc8784",
   "metadata": {},
   "source": [
    "#### Tahap 3: Ringkasan dan Kesimpulan\n",
    "\n",
    "Evaluasi performa model regresi telah dilakukan baik pada seluruh data maupun data tanpa outlier. Hasilnya menunjukkan bahwa penghapusan data outlier meningkatkan stabilitas dan keakuratan model, khususnya jika dilihat dari nilai MAE (Mean Absolute Error).\n",
    "\n",
    "Model Random Forest menjadi yang paling unggul pada kondisi data tanpa outlier, dengan MAE hanya sekitar $32,437.47, jauh lebih rendah dan masuk akal dibandingkan saat menggunakan data penuh, di mana MAE-nya mencapai lebih dari $195,000. Hal ini menandakan bahwa tanpa adanya outlier ekstrem, model dapat mempelajari pola hubungan antara fitur dan target dengan lebih seimbang dan generalizable.\n",
    "\n",
    "Namun, penghapusan outlier juga memiliki risiko dan konsekuensi. Data outlier bisa saja merepresentasikan kasus-kasus ekstrem yang valid dan penting dalam konteks risiko bisnis atau pengambilan keputusan kritis. Menghapusnya berarti model kehilangan kesempatan belajar dari skenario berdampak besar yang meskipun jarang, bisa sangat merugikan jika tidak terantisipasi.\n",
    "\n",
    "Oleh karena itu, meskipun strategi penghapusan outlier membantu meningkatkan performa umum, penting juga untuk:\n",
    "\n",
    "- Menyimpan salinan data outlier untuk dianalisis secara terpisah.\n",
    "\n",
    "- Mengembangkan model khusus untuk kasus ekstrem (misalnya dengan teknik robust regression atau ensemble).\n",
    "\n",
    "- Mengeksplorasi fitur lain\n",
    "\n",
    "Kesimpulannya, penghapusan outlier meningkatkan performa model dari sisi MAE dan keandalan prediksi rata-rata, dan Random Forest terbukti menjadi model terbaik dalam kondisi ini. Pendekatan ini memberikan landasan yang kuat untuk memprediksi kerugian finansial akibat kecelakaan pipa secara lebih stabil, dan menjadi pondasi berharga untuk melanjutkan ke proyek klasifikasi penyebab utama kecelakaan pada tahap berikutnya."
   ]
  },
  {
   "cell_type": "markdown",
   "id": "2a5ccf52",
   "metadata": {},
   "source": []
  }
 ],
 "metadata": {
  "kernelspec": {
   "display_name": "Python 3",
   "language": "python",
   "name": "python3"
  },
  "language_info": {
   "codemirror_mode": {
    "name": "ipython",
    "version": 3
   },
   "file_extension": ".py",
   "mimetype": "text/x-python",
   "name": "python",
   "nbconvert_exporter": "python",
   "pygments_lexer": "ipython3",
   "version": "3.8.0"
  }
 },
 "nbformat": 4,
 "nbformat_minor": 5
}
